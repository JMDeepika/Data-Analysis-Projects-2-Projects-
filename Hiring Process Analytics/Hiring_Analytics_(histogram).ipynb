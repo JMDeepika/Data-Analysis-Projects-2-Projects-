{
  "nbformat": 4,
  "nbformat_minor": 0,
  "metadata": {
    "colab": {
      "provenance": []
    },
    "kernelspec": {
      "name": "python3",
      "display_name": "Python 3"
    },
    "language_info": {
      "name": "python"
    }
  },
  "cells": [
    {
      "cell_type": "code",
      "execution_count": null,
      "metadata": {
        "id": "vh_dtTKhvj6v"
      },
      "outputs": [],
      "source": [
        "import numpy as np\n",
        "import pandas as pd\n",
        "import matplotlib.pyplot as plt\n",
        "import seaborn as sns"
      ]
    },
    {
      "cell_type": "code",
      "source": [
        "df = pd.read_csv('employees.csv')\n",
        "nullval = df.isnull().sum()\n",
        "\n",
        "df.dropna(subset = ['Gender'], inplace=True)\n",
        "df = df.reset_index(drop=True)\n",
        "\n",
        "# null_df = df.query('Team != Team & Senior Management != Senior Management')\n",
        "df_2 = df.loc[(df['Team'].isnull()) & (df['Senior Management'].notnull())]\n",
        "df['Birth_Date'] = pd.to_datetime(df['Birth_Date'], dayfirst = True)"
      ],
      "metadata": {
        "id": "PTSHTV2GxvCX"
      },
      "execution_count": null,
      "outputs": []
    },
    {
      "cell_type": "code",
      "source": [
        "df.drop(df_2.index.values, inplace= True)\n",
        "df['Start Date'] = pd.to_datetime(df['Start Date'])\n",
        "df = df.reset_index(drop=True)\n",
        "df.to_csv('employees_clean.csv', index=False)\n"
      ],
      "metadata": {
        "id": "vEkupaz7jCj0"
      },
      "execution_count": null,
      "outputs": []
    },
    {
      "cell_type": "markdown",
      "source": [
        "This code transforms or splits the dictionary column into many columns.\n",
        "\n",
        "E.g. The output DataFrame of this cell will have columns named [`date, letter, fruit, weather`]."
      ],
      "metadata": {
        "id": "AV2uBxj4fPHL"
      }
    },
    {
      "cell_type": "markdown",
      "source": [
        "This code transforms or splits the dictionary column into many columns.\n",
        "\n",
        "E.g. The output DataFrame of this cell will have columns named [`date, letter, fruit, weather`]."
      ],
      "metadata": {
        "id": "o32v-m45fPZl"
      }
    },
    {
      "cell_type": "code",
      "source": [
        "import pandas as pd\n",
        "df = pd.DataFrame({\n",
        "  'date': ['2022-09-14', '2022-09-15', '2022-09-16'],\n",
        "  'letter': ['A', 'B', 'C'],\n",
        "  'dict' : [{ 'fruit': 'apple', 'weather': 'aces'},\n",
        "            { 'fruit': 'banana', 'weather': 'bad'},\n",
        "            { 'fruit': 'cantaloupe', 'weather': 'cloudy'}],\n",
        "})\n",
        "\n",
        "pd.concat([df.drop(['dict'], axis=1), df['dict'].apply(pd.Series)], axis=1)"
      ],
      "metadata": {
        "id": "MtbYxwi3fPZl"
      },
      "execution_count": null,
      "outputs": []
    },
    {
      "cell_type": "code",
      "source": [
        "import pandas as pd\n",
        "df = pd.DataFrame({\n",
        "  'date': ['2022-09-14', '2022-09-15', '2022-09-16'],\n",
        "  'letter': ['A', 'B', 'C'],\n",
        "  'dict' : [{ 'fruit': 'apple', 'weather': 'aces'},\n",
        "            { 'fruit': 'banana', 'weather': 'bad'},\n",
        "            { 'fruit': 'cantaloupe', 'weather': 'cloudy'}],\n",
        "})\n",
        "\n",
        "pd.concat([df.drop(['dict'], axis=1), df['dict'].apply(pd.Series)], axis=1)"
      ],
      "metadata": {
        "id": "A7-rKniEfPHc"
      },
      "execution_count": null,
      "outputs": []
    },
    {
      "cell_type": "markdown",
      "source": [
        "## Converting csv file into a pandas dataframe"
      ],
      "metadata": {
        "id": "BnPP1qZ04ViB"
      }
    },
    {
      "cell_type": "code",
      "source": [
        "data = pd.read_csv('Salary.csv')\n",
        "data"
      ],
      "metadata": {
        "id": "vTEw8e5L4EEK"
      },
      "execution_count": null,
      "outputs": []
    },
    {
      "cell_type": "markdown",
      "source": [
        "## Styling Tabulation"
      ],
      "metadata": {
        "id": "lIB9b2Dl4qnY"
      }
    },
    {
      "cell_type": "code",
      "source": [
        "d = data.tail()\n",
        "d.style"
      ],
      "metadata": {
        "id": "YpORU6KK4o2O",
        "colab": {
          "base_uri": "https://localhost:8080/",
          "height": 206
        },
        "outputId": "59250fef-bf20-48b0-9a27-52b293062b3f"
      },
      "execution_count": null,
      "outputs": [
        {
          "output_type": "execute_result",
          "data": {
            "text/plain": [
              "<pandas.io.formats.style.Styler at 0x7e85cdae2080>"
            ],
            "text/html": [
              "<style type=\"text/css\">\n",
              "</style>\n",
              "<table id=\"T_6fca5\" class=\"dataframe\">\n",
              "  <thead>\n",
              "    <tr>\n",
              "      <th class=\"blank level0\" >&nbsp;</th>\n",
              "      <th id=\"T_6fca5_level0_col0\" class=\"col_heading level0 col0\" >OfferedSalary</th>\n",
              "    </tr>\n",
              "  </thead>\n",
              "  <tbody>\n",
              "    <tr>\n",
              "      <th id=\"T_6fca5_level0_row0\" class=\"row_heading level0 row0\" >7159</th>\n",
              "      <td id=\"T_6fca5_row0_col0\" class=\"data row0 col0\" >49282</td>\n",
              "    </tr>\n",
              "    <tr>\n",
              "      <th id=\"T_6fca5_level0_row1\" class=\"row_heading level0 row1\" >7160</th>\n",
              "      <td id=\"T_6fca5_row1_col0\" class=\"data row1 col0\" >57742</td>\n",
              "    </tr>\n",
              "    <tr>\n",
              "      <th id=\"T_6fca5_level0_row2\" class=\"row_heading level0 row2\" >7161</th>\n",
              "      <td id=\"T_6fca5_row2_col0\" class=\"data row2 col0\" >69932</td>\n",
              "    </tr>\n",
              "    <tr>\n",
              "      <th id=\"T_6fca5_level0_row3\" class=\"row_heading level0 row3\" >7162</th>\n",
              "      <td id=\"T_6fca5_row3_col0\" class=\"data row3 col0\" >14489</td>\n",
              "    </tr>\n",
              "    <tr>\n",
              "      <th id=\"T_6fca5_level0_row4\" class=\"row_heading level0 row4\" >7163</th>\n",
              "      <td id=\"T_6fca5_row4_col0\" class=\"data row4 col0\" >54201</td>\n",
              "    </tr>\n",
              "  </tbody>\n",
              "</table>\n"
            ]
          },
          "metadata": {},
          "execution_count": 6
        }
      ]
    },
    {
      "cell_type": "code",
      "source": [
        "d = data.dtypes\n",
        "d\n",
        "data.style.highlight_max(color = 'yellow')\n"
      ],
      "metadata": {
        "colab": {
          "base_uri": "https://localhost:8080/"
        },
        "id": "9Tgv3zSV-XcB",
        "outputId": "fdf7bb10-263a-453d-b919-a91f97fb2f03"
      },
      "execution_count": null,
      "outputs": [
        {
          "output_type": "execute_result",
          "data": {
            "text/plain": [
              "OfferedSalary    99967\n",
              "dtype: int64"
            ]
          },
          "metadata": {},
          "execution_count": 7
        }
      ]
    },
    {
      "cell_type": "code",
      "source": [
        "data.max()\n",
        "data.min()"
      ],
      "metadata": {
        "colab": {
          "base_uri": "https://localhost:8080/"
        },
        "id": "4lBqXvsWMuQ5",
        "outputId": "4a2be807-0a09-4487-fc6e-e4e5967c501d"
      },
      "execution_count": null,
      "outputs": [
        {
          "output_type": "execute_result",
          "data": {
            "text/plain": [
              "OfferedSalary    100\n",
              "dtype: int64"
            ]
          },
          "metadata": {},
          "execution_count": 11
        }
      ]
    },
    {
      "cell_type": "code",
      "source": [
        "plt.hist(data, bins = 50)\n",
        "plt.show()"
      ],
      "metadata": {
        "colab": {
          "base_uri": "https://localhost:8080/",
          "height": 430
        },
        "id": "9O9NfHnqSyCw",
        "outputId": "52907cef-6235-4b38-ae28-31b9bbf72096"
      },
      "execution_count": null,
      "outputs": [
        {
          "output_type": "display_data",
          "data": {
            "text/plain": [
              "<Figure size 640x480 with 1 Axes>"
            ],
            "image/png": "[encoded data removed]"
          },
          "metadata": {}
        }
      ]
    }
  ]
}